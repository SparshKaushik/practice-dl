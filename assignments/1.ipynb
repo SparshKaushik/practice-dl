{
 "cells": [
  {
   "cell_type": "code",
   "execution_count": 2,
   "metadata": {},
   "outputs": [],
   "source": [
    "import pandas as pd \n",
    "import numpy as np \n",
    "import matplotlib.pyplot as plt\n",
    "from tensorflow.keras.models import Sequential\n",
    "from tensorflow.keras.layers import Dense\n",
    "from tensorflow.keras.regularizers import l1, l2\n",
    "from sklearn.model_selection import train_test_split"
   ]
  },
  {
   "cell_type": "code",
   "execution_count": 3,
   "metadata": {},
   "outputs": [],
   "source": [
    "datasize = 10000\n",
    "\n",
    "ft1 = np.random.randn(datasize)\n",
    "ft2 = np.random.randn(datasize)\n",
    "ft3 = np.random.randn(datasize)\n",
    "\n",
    "target = ft1 - 32 * ft2 + 21 * ft3 - 45 + np.random.normal(scale=0.1, size=datasize)\n",
    "\n",
    "dataset = np.column_stack((ft1, ft2, ft3, target))\n",
    "\n",
    "data_dict = {'feature1': ft1, 'feature2': ft2, 'feature3': ft3, 'tgt': target}\n",
    "\n",
    "df = pd.DataFrame(data_dict)"
   ]
  },
  {
   "cell_type": "code",
   "execution_count": 4,
   "metadata": {},
   "outputs": [],
   "source": [
    "X = df.drop('tgt', axis=1).to_numpy()\n",
    "y = df['tgt'].to_numpy()\n",
    "\n",
    "X_train, X_temp, y_train, y_temp = train_test_split(X, y, test_size=0.3, random_state=42)\n",
    "X_val, X_test, y_val, y_test = train_test_split(X_temp, y_temp, test_size=0.5, random_state=42)"
   ]
  },
  {
   "cell_type": "code",
   "execution_count": 7,
   "metadata": {},
   "outputs": [
    {
     "name": "stderr",
     "output_type": "stream",
     "text": [
      "100%|██████████| 2000/2000 [09:01<00:00,  3.69epoch/s, loss=0.0145, val_loss=0.0839]\n"
     ]
    }
   ],
   "source": [
    "from tqdm.keras import TqdmCallback\n",
    "\n",
    "epochs = 2000\n",
    "model_no_reg = Sequential()\n",
    "model_no_reg.add(Dense(128, activation='relu', input_shape=(X_train.shape[1],)))\n",
    "model_no_reg.add(Dense(64, activation='selu'))\n",
    "model_no_reg.add(Dense(1))\n",
    "\n",
    "# Compile the model\n",
    "model_no_reg.compile(optimizer='Nadam', loss='mse')\n",
    "\n",
    "# Train the model\n",
    "history_no_reg = model_no_reg.fit(X_train, y_train, epochs=epochs, batch_size=32, validation_data=(X_val, y_val), verbose=0, callbacks=[TqdmCallback(epochs=2000, verbose=1)])"
   ]
  },
  {
   "cell_type": "code",
   "execution_count": null,
   "metadata": {},
   "outputs": [],
   "source": [
    "model_l1 = Sequential()\n",
    "model_l1.add(Dense(128, activation='relu', kernel_regularizer=l1(l1=0.01), input_shape=(X_train.shape[1],)))\n",
    "model_l1.add(Dense(64, activation='selu', kernel_regularizer=l1(l1=0.01)))\n",
    "model_l1.add(Dense(1))\n",
    "\n",
    "model_l1.compile(optimizer='Nadam', loss='mse')\n",
    "\n",
    "history_l1 = model_l1.fit(X_train, y_train, epochs=epochs, batch_size=32, validation_data=(X_val, y_val), verbose=0, callbacks=[TqdmCallback(epochs=2000, verbose=1)])"
   ]
  },
  {
   "cell_type": "code",
   "execution_count": null,
   "metadata": {},
   "outputs": [],
   "source": [
    "model_l2 = Sequential()\n",
    "model_l2.add(Dense(128, activation='relu', kernel_regularizer=l2(l2=0.01), input_shape=(X_train.shape[1],)))\n",
    "model_l2.add(Dense(64, activation='selu', kernel_regularizer=l2(l2=0.01)))\n",
    "model_l2.add(Dense(1))\n",
    "\n",
    "model_l2.compile(optimizer='Nadam', loss='mse')\n",
    "\n",
    "history_l2 = model_l2.fit(X_train, y_train, epochs=epochs, batch_size=32, validation_data=(X_val, y_val), verbose=0, callbacks=[TqdmCallback(epochs=2000, verbose=1)])\n"
   ]
  },
  {
   "cell_type": "code",
   "execution_count": null,
   "metadata": {},
   "outputs": [],
   "source": [
    "loss_no_reg = model_no_reg.evaluate(X_test, y_test)\n",
    "loss_l1 = model_l1.evaluate(X_test, y_test)\n",
    "loss_l2 = model_l2.evaluate(X_test, y_test)\n",
    "print(\"Test Loss (No Regularization):\", loss_no_reg)\n",
    "print(\"Test Loss (L1 Regularization):\", loss_l1)\n",
    "print(\"Test Loss (L2 Regularization):\", loss_l2)"
   ]
  },
  {
   "cell_type": "code",
   "execution_count": null,
   "metadata": {},
   "outputs": [],
   "source": [
    "plt.figure(figsize=(10, 6))\n",
    "plt.plot(history_no_reg.history['loss'], label='No Regularization Training Loss')\n",
    "plt.plot(history_no_reg.history['val_loss'], label='No Regularization Validation Loss')\n",
    "plt.plot(history_l1.history['loss'], label='L1 Regularization Training Loss')\n",
    "plt.plot(history_l1.history['val_loss'], label='L1 Regularization Validation Loss')\n",
    "plt.plot(history_l2.history['loss'], label='L2 Regularization Training Loss')\n",
    "plt.plot(history_l2.history['val_loss'], label='L2 Regularization Validation Loss')\n",
    "plt.title('Model loss with Different Regularization Techniques')\n",
    "plt.xlabel('Epoch')\n",
    "plt.ylabel('Loss')\n",
    "plt.legend()\n",
    "plt.show()"
   ]
  },
  {
   "cell_type": "code",
   "execution_count": null,
   "metadata": {},
   "outputs": [],
   "source": [
    "import plotly.graph_objects as go\n",
    "\n",
    "fig = go.Figure()\n",
    "\n",
    "fig.add_trace(go.Scatter(x=list(range(1, epochs + 1)), y=history_no_reg.history['loss'], mode='lines', name='No Regularization Training Loss', line=dict(color='blue')))\n",
    "fig.add_trace(go.Scatter(x=list(range(1, epochs + 1)), y=history_l1.history['loss'], mode='lines', name='L1 Regularization Training Loss', line=dict(color='green')))\n",
    "fig.add_trace(go.Scatter(x=list(range(1, epochs + 1)), y=history_l2.history['loss'], mode='lines', name='L2 Regularization Training Loss', line=dict(color='red')))\n",
    "\n",
    "fig.add_trace(go.Scatter(x=list(range(1, epochs + 1)), y=history_no_reg.history['val_loss'], mode='lines', name='No Regularization Validation Loss', line=dict(color='blue', dash='dash')))\n",
    "fig.add_trace(go.Scatter(x=list(range(1, epochs + 1)), y=history_l1.history['val_loss'], mode='lines', name='L1 Regularization Validation Loss', line=dict(color='green', dash='dash')))\n",
    "fig.add_trace(go.Scatter(x=list(range(1, epochs + 1)), y=history_l2.history['val_loss'], mode='lines', name='L2 Regularization Validation Loss', line=dict(color='red', dash='dash')))\n",
    "\n",
    "fig.update_layout(title='Model loss with Different Regularization Techniques',\n",
    "                   xaxis_title='Epoch',\n",
    "                   yaxis_title='Loss')\n",
    "fig.show()"
   ]
  }
 ],
 "metadata": {
  "kernelspec": {
   "display_name": "Python 3",
   "language": "python",
   "name": "python3"
  },
  "language_info": {
   "codemirror_mode": {
    "name": "ipython",
    "version": 3
   },
   "file_extension": ".py",
   "mimetype": "text/x-python",
   "name": "python",
   "nbconvert_exporter": "python",
   "pygments_lexer": "ipython3",
   "version": "3.10.13"
  }
 },
 "nbformat": 4,
 "nbformat_minor": 2
}
