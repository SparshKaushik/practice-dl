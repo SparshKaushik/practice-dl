{
 "cells": [
  {
   "cell_type": "code",
   "execution_count": 1,
   "metadata": {},
   "outputs": [
    {
     "name": "stderr",
     "output_type": "stream",
     "text": [
      "2024-03-19 04:16:55.821081: I external/local_tsl/tsl/cuda/cudart_stub.cc:31] Could not find cuda drivers on your machine, GPU will not be used.\n",
      "2024-03-19 04:16:55.860807: E external/local_xla/xla/stream_executor/cuda/cuda_dnn.cc:9261] Unable to register cuDNN factory: Attempting to register factory for plugin cuDNN when one has already been registered\n",
      "2024-03-19 04:16:55.860853: E external/local_xla/xla/stream_executor/cuda/cuda_fft.cc:607] Unable to register cuFFT factory: Attempting to register factory for plugin cuFFT when one has already been registered\n",
      "2024-03-19 04:16:55.862351: E external/local_xla/xla/stream_executor/cuda/cuda_blas.cc:1515] Unable to register cuBLAS factory: Attempting to register factory for plugin cuBLAS when one has already been registered\n",
      "2024-03-19 04:16:55.869732: I external/local_tsl/tsl/cuda/cudart_stub.cc:31] Could not find cuda drivers on your machine, GPU will not be used.\n",
      "2024-03-19 04:16:55.870660: I tensorflow/core/platform/cpu_feature_guard.cc:182] This TensorFlow binary is optimized to use available CPU instructions in performance-critical operations.\n",
      "To enable the following instructions: AVX2 FMA, in other operations, rebuild TensorFlow with the appropriate compiler flags.\n",
      "2024-03-19 04:16:56.994024: W tensorflow/compiler/tf2tensorrt/utils/py_utils.cc:38] TF-TRT Warning: Could not find TensorRT\n"
     ]
    }
   ],
   "source": [
    "from tensorflow.keras.models import Sequential\n",
    "from tensorflow.keras.layers import Dense\n",
    "from sklearn.model_selection import train_test_split\n",
    "from sklearn.feature_extraction.text import CountVectorizer \n",
    "import pandas as pd\n",
    "df = pd.read_csv('./data/IMDBDataset.csv')\n",
    "df = df.sample(frac=1, random_state=42)[:5000]"
   ]
  },
  {
   "cell_type": "code",
   "execution_count": 2,
   "metadata": {},
   "outputs": [],
   "source": [
    "feature_map = {'positive':1,'negative':0}\n",
    "df['sentiment-map'] = df['sentiment'].map(feature_map)"
   ]
  },
  {
   "cell_type": "code",
   "execution_count": 3,
   "metadata": {},
   "outputs": [],
   "source": [
    "X = df['review']\n",
    "y = df['sentiment-map']\n",
    "\n",
    "X_train, X_test, y_train, y_test = train_test_split(X, y, test_size=0.2, random_state=42)\n",
    "\n",
    "vectorizer = CountVectorizer(stop_words='english')\n",
    "\n",
    "X_train_vec = vectorizer.fit_transform(X_train)\n",
    "X_test_vec = vectorizer.transform(X_test) \n",
    "\n",
    "model = Sequential()\n",
    "\n",
    "X_train_vec.shape[1]\n",
    "\n",
    "model.add(Dense(64,activation='relu',input_shape=(X_train_vec.shape[1],)))\n",
    "model.add(Dense(1,activation='sigmoid'))\n",
    "\n",
    "model.compile(optimizer='adam', loss='binary_crossentropy', metrics=['accuracy'])"
   ]
  },
  {
   "cell_type": "code",
   "execution_count": 4,
   "metadata": {},
   "outputs": [
    {
     "name": "stdout",
     "output_type": "stream",
     "text": [
      "Epoch 1/10\n"
     ]
    },
    {
     "name": "stderr",
     "output_type": "stream",
     "text": [
      "2024-03-19 04:17:00.474310: W external/local_tsl/tsl/framework/cpu_allocator_impl.cc:83] Allocation of 1123392000 exceeds 10% of free system memory.\n"
     ]
    },
    {
     "name": "stdout",
     "output_type": "stream",
     "text": [
      "125/125 [==============================] - 3s 18ms/step - loss: 0.4394 - accuracy: 0.8130\n",
      "Epoch 2/10\n",
      "125/125 [==============================] - 2s 17ms/step - loss: 0.0998 - accuracy: 0.9728\n",
      "Epoch 3/10\n",
      "125/125 [==============================] - 2s 17ms/step - loss: 0.0299 - accuracy: 0.9965\n",
      "Epoch 4/10\n",
      "125/125 [==============================] - 2s 16ms/step - loss: 0.0134 - accuracy: 0.9992\n",
      "Epoch 5/10\n",
      "125/125 [==============================] - 2s 14ms/step - loss: 0.0074 - accuracy: 0.9995\n",
      "Epoch 6/10\n",
      "125/125 [==============================] - 2s 14ms/step - loss: 0.0046 - accuracy: 1.0000\n",
      "Epoch 7/10\n",
      " 52/125 [===========>..................] - ETA: 1s - loss: 0.0035 - accuracy: 1.0000"
     ]
    }
   ],
   "source": [
    "X_train_dense = X_train_vec.toarray()\n",
    "\n",
    "history = model.fit(X_train_dense, y_train, epochs=10, batch_size=32)"
   ]
  },
  {
   "cell_type": "code",
   "execution_count": null,
   "metadata": {},
   "outputs": [
    {
     "name": "stdout",
     "output_type": "stream",
     "text": [
      "7/7 [==============================] - 0s 2ms/step - loss: 0.4077 - accuracy: 0.8250\n",
      "Test Loss: 0.40767359733581543\n",
      "Test Accuracy: 0.824999988079071\n"
     ]
    }
   ],
   "source": [
    "X_test_dense = X_test_vec.toarray()\n",
    "loss, accuracy = model.evaluate(X_test_dense, y_test)\n",
    "\n",
    "print(\"Test Loss:\", loss)\n",
    "print(\"Test Accuracy:\", accuracy)"
   ]
  }
 ],
 "metadata": {
  "kernelspec": {
   "display_name": "Python 3",
   "language": "python",
   "name": "python3"
  },
  "language_info": {
   "codemirror_mode": {
    "name": "ipython",
    "version": 3
   },
   "file_extension": ".py",
   "mimetype": "text/x-python",
   "name": "python",
   "nbconvert_exporter": "python",
   "pygments_lexer": "ipython3",
   "version": "3.10.13"
  }
 },
 "nbformat": 4,
 "nbformat_minor": 2
}
